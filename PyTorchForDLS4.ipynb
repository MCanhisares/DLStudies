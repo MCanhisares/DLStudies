{
  "nbformat": 4,
  "nbformat_minor": 0,
  "metadata": {
    "colab": {
      "name": "PyTorchForDLS4.ipynb",
      "version": "0.3.2",
      "provenance": [],
      "include_colab_link": true
    },
    "kernelspec": {
      "name": "python3",
      "display_name": "Python 3"
    },
    "accelerator": "GPU"
  },
  "cells": [
    {
      "cell_type": "markdown",
      "metadata": {
        "id": "view-in-github",
        "colab_type": "text"
      },
      "source": [
        "<a href=\"https://colab.research.google.com/github/MCanhisares/DLStudies/blob/master/PyTorchForDLS4.ipynb\" target=\"_parent\"><img src=\"https://colab.research.google.com/assets/colab-badge.svg\" alt=\"Open In Colab\"/></a>"
      ]
    },
    {
      "cell_type": "markdown",
      "metadata": {
        "id": "yF7gGsob9y6U",
        "colab_type": "text"
      },
      "source": [
        "# Linear regression"
      ]
    },
    {
      "cell_type": "code",
      "metadata": {
        "id": "j-_gMpbD98iQ",
        "colab_type": "code",
        "colab": {}
      },
      "source": [
        "import torch\n",
        "import torch.nn as nn\n",
        "import matplotlib.pyplot as plt\n",
        "import numpy as np"
      ],
      "execution_count": 0,
      "outputs": []
    },
    {
      "cell_type": "code",
      "metadata": {
        "id": "EKXMdUUbp4pS",
        "colab_type": "code",
        "colab": {
          "base_uri": "https://localhost:8080/",
          "height": 300
        },
        "outputId": "9a682bc2-f609-4884-b754-7d9ac68d901b"
      },
      "source": [
        "X = torch.randn(100,1) * 10\n",
        "y = X + 3* torch.randn(100,1)\n",
        "plt.plot(X.numpy(), y.numpy(), 'o')\n",
        "plt.ylabel('y')\n",
        "plt.xlabel('x')"
      ],
      "execution_count": 2,
      "outputs": [
        {
          "output_type": "execute_result",
          "data": {
            "text/plain": [
              "Text(0.5, 0, 'x')"
            ]
          },
          "metadata": {
            "tags": []
          },
          "execution_count": 2
        },
        {
          "output_type": "display_data",
          "data": {
            "image/png": "[encoded data removed]",
            "text/plain": [
              "<Figure size 432x288 with 1 Axes>"
            ]
          },
          "metadata": {
            "tags": []
          }
        }
      ]
    },
    {
      "cell_type": "code",
      "metadata": {
        "id": "pF37CM75ozXx",
        "colab_type": "code",
        "colab": {}
      },
      "source": [
        "class LR(nn.Module):\n",
        "  def __init__(self, input_size, output_size):\n",
        "    super().__init__()\n",
        "    self.linear = nn.Linear(input_size, output_size)\n",
        "  def forward(self,x):\n",
        "    pred = self.linear(x)\n",
        "    return pred"
      ],
      "execution_count": 0,
      "outputs": []
    },
    {
      "cell_type": "code",
      "metadata": {
        "id": "OeqPnxdSpjDA",
        "colab_type": "code",
        "colab": {
          "base_uri": "https://localhost:8080/",
          "height": 68
        },
        "outputId": "90b24878-65f9-4170-8fb0-989dc0bd1985"
      },
      "source": [
        "torch.manual_seed(1)\n",
        "model = LR(1,1)\n",
        "print(model)"
      ],
      "execution_count": 4,
      "outputs": [
        {
          "output_type": "stream",
          "text": [
            "LR(\n",
            "  (linear): Linear(in_features=1, out_features=1, bias=True)\n",
            ")\n"
          ],
          "name": "stdout"
        }
      ]
    },
    {
      "cell_type": "code",
      "metadata": {
        "id": "Zl-VaB-zppug",
        "colab_type": "code",
        "colab": {}
      },
      "source": [
        "[w,b] = model.parameters()\n",
        "def get_params():\n",
        "  return (w[0][0].item(), b[0].item())"
      ],
      "execution_count": 0,
      "outputs": []
    },
    {
      "cell_type": "code",
      "metadata": {
        "id": "te9ECuVyqPS-",
        "colab_type": "code",
        "colab": {}
      },
      "source": [
        "def plot_fit(title):\n",
        "  plt.title = title\n",
        "  w1,b1 = get_params()\n",
        "  x1 = np.array([-30, 30])\n",
        "  y1 = w1*x1+b1\n",
        "  plt.plot(x1,y1, 'r')\n",
        "  plt.scatter(X,y)\n",
        "  plt.show()"
      ],
      "execution_count": 0,
      "outputs": []
    },
    {
      "cell_type": "code",
      "metadata": {
        "id": "ObbBZJ8GrjlJ",
        "colab_type": "code",
        "colab": {
          "base_uri": "https://localhost:8080/",
          "height": 269
        },
        "outputId": "adffee62-396d-45d4-8ac2-c732da85b878"
      },
      "source": [
        "plot_fit('Initial model')"
      ],
      "execution_count": 7,
      "outputs": [
        {
          "output_type": "display_data",
          "data": {
            "image/png": "[encoded data removed]",
            "text/plain": [
              "<Figure size 432x288 with 1 Axes>"
            ]
          },
          "metadata": {
            "tags": []
          }
        }
      ]
    },
    {
      "cell_type": "code",
      "metadata": {
        "id": "jVgSjNJ0rlkk",
        "colab_type": "code",
        "colab": {}
      },
      "source": [
        "criterion = nn.MSELoss()\n",
        "optimizer = torch.optim.SGD(model.parameters(), lr=0.01) "
      ],
      "execution_count": 0,
      "outputs": []
    },
    {
      "cell_type": "code",
      "metadata": {
        "id": "0N11IZ20uQSU",
        "colab_type": "code",
        "colab": {
          "base_uri": "https://localhost:8080/",
          "height": 1717
        },
        "outputId": "af79ef1e-9a17-4e2e-ce2e-8c34ca075c99"
      },
      "source": [
        "epochs = 100\n",
        "losses = []\n",
        "for i in range(epochs):\n",
        "  y_pred = model.forward(X)\n",
        "  loss = criterion(y_pred, y)\n",
        "  print(f'epoch: {i}, loss: {loss.item()}')\n",
        "  \n",
        "  losses.append(loss)\n",
        "  optimizer.zero_grad()\n",
        "  loss.backward()\n",
        "  optimizer.step()"
      ],
      "execution_count": 9,
      "outputs": [
        {
          "output_type": "stream",
          "text": [
            "epoch: 0, loss: 23.277795791625977\n",
            "epoch: 1, loss: 19.022327423095703\n",
            "epoch: 2, loss: 15.9910249710083\n",
            "epoch: 3, loss: 13.83020305633545\n",
            "epoch: 4, loss: 12.288444519042969\n",
            "epoch: 5, loss: 11.186986923217773\n",
            "epoch: 6, loss: 10.398752212524414\n",
            "epoch: 7, loss: 9.833388328552246\n",
            "epoch: 8, loss: 9.426661491394043\n",
            "epoch: 9, loss: 9.132894515991211\n",
            "epoch: 10, loss: 8.919612884521484\n",
            "epoch: 11, loss: 8.76371955871582\n",
            "epoch: 12, loss: 8.648791313171387\n",
            "epoch: 13, loss: 8.563145637512207\n",
            "epoch: 14, loss: 8.4984712600708\n",
            "epoch: 15, loss: 8.448851585388184\n",
            "epoch: 16, loss: 8.410078048706055\n",
            "epoch: 17, loss: 8.379152297973633\n",
            "epoch: 18, loss: 8.353935241699219\n",
            "epoch: 19, loss: 8.332904815673828\n",
            "epoch: 20, loss: 8.314970970153809\n",
            "epoch: 21, loss: 8.299355506896973\n",
            "epoch: 22, loss: 8.28549861907959\n",
            "epoch: 23, loss: 8.273001670837402\n",
            "epoch: 24, loss: 8.261574745178223\n",
            "epoch: 25, loss: 8.251007080078125\n",
            "epoch: 26, loss: 8.241146087646484\n",
            "epoch: 27, loss: 8.231879234313965\n",
            "epoch: 28, loss: 8.223123550415039\n",
            "epoch: 29, loss: 8.214816093444824\n",
            "epoch: 30, loss: 8.206907272338867\n",
            "epoch: 31, loss: 8.199361801147461\n",
            "epoch: 32, loss: 8.19214916229248\n",
            "epoch: 33, loss: 8.1852445602417\n",
            "epoch: 34, loss: 8.178629875183105\n",
            "epoch: 35, loss: 8.172287940979004\n",
            "epoch: 36, loss: 8.166202545166016\n",
            "epoch: 37, loss: 8.16036319732666\n",
            "epoch: 38, loss: 8.154755592346191\n",
            "epoch: 39, loss: 8.149372100830078\n",
            "epoch: 40, loss: 8.144201278686523\n",
            "epoch: 41, loss: 8.139233589172363\n",
            "epoch: 42, loss: 8.134462356567383\n",
            "epoch: 43, loss: 8.129878044128418\n",
            "epoch: 44, loss: 8.125473976135254\n",
            "epoch: 45, loss: 8.121241569519043\n",
            "epoch: 46, loss: 8.117176055908203\n",
            "epoch: 47, loss: 8.113269805908203\n",
            "epoch: 48, loss: 8.109516143798828\n",
            "epoch: 49, loss: 8.10590934753418\n",
            "epoch: 50, loss: 8.102442741394043\n",
            "epoch: 51, loss: 8.099112510681152\n",
            "epoch: 52, loss: 8.09591293334961\n",
            "epoch: 53, loss: 8.0928373336792\n",
            "epoch: 54, loss: 8.089882850646973\n",
            "epoch: 55, loss: 8.087043762207031\n",
            "epoch: 56, loss: 8.08431625366211\n",
            "epoch: 57, loss: 8.081694602966309\n",
            "epoch: 58, loss: 8.07917594909668\n",
            "epoch: 59, loss: 8.07675552368164\n",
            "epoch: 60, loss: 8.074430465698242\n",
            "epoch: 61, loss: 8.072195053100586\n",
            "epoch: 62, loss: 8.070048332214355\n",
            "epoch: 63, loss: 8.067984580993652\n",
            "epoch: 64, loss: 8.066001892089844\n",
            "epoch: 65, loss: 8.064096450805664\n",
            "epoch: 66, loss: 8.062265396118164\n",
            "epoch: 67, loss: 8.060506820678711\n",
            "epoch: 68, loss: 8.058815956115723\n",
            "epoch: 69, loss: 8.0571928024292\n",
            "epoch: 70, loss: 8.055631637573242\n",
            "epoch: 71, loss: 8.054131507873535\n",
            "epoch: 72, loss: 8.052690505981445\n",
            "epoch: 73, loss: 8.051305770874023\n",
            "epoch: 74, loss: 8.049975395202637\n",
            "epoch: 75, loss: 8.048696517944336\n",
            "epoch: 76, loss: 8.047468185424805\n",
            "epoch: 77, loss: 8.046287536621094\n",
            "epoch: 78, loss: 8.04515266418457\n",
            "epoch: 79, loss: 8.044062614440918\n",
            "epoch: 80, loss: 8.04301643371582\n",
            "epoch: 81, loss: 8.042009353637695\n",
            "epoch: 82, loss: 8.04104232788086\n",
            "epoch: 83, loss: 8.040112495422363\n",
            "epoch: 84, loss: 8.039219856262207\n",
            "epoch: 85, loss: 8.038361549377441\n",
            "epoch: 86, loss: 8.037537574768066\n",
            "epoch: 87, loss: 8.036745071411133\n",
            "epoch: 88, loss: 8.03598403930664\n",
            "epoch: 89, loss: 8.035252571105957\n",
            "epoch: 90, loss: 8.034549713134766\n",
            "epoch: 91, loss: 8.03387451171875\n",
            "epoch: 92, loss: 8.033225059509277\n",
            "epoch: 93, loss: 8.032601356506348\n",
            "epoch: 94, loss: 8.032002449035645\n",
            "epoch: 95, loss: 8.031426429748535\n",
            "epoch: 96, loss: 8.03087329864502\n",
            "epoch: 97, loss: 8.030341148376465\n",
            "epoch: 98, loss: 8.029829978942871\n",
            "epoch: 99, loss: 8.029339790344238\n"
          ],
          "name": "stdout"
        }
      ]
    },
    {
      "cell_type": "code",
      "metadata": {
        "id": "-K0IchYywi5z",
        "colab_type": "code",
        "colab": {
          "base_uri": "https://localhost:8080/",
          "height": 300
        },
        "outputId": "22f34f0e-82b8-420f-a691-0eafadada5e4"
      },
      "source": [
        "plt.plot(range(epochs), losses)\n",
        "plt.ylabel('Loss')\n",
        "plt.xlabel('epoch')"
      ],
      "execution_count": 10,
      "outputs": [
        {
          "output_type": "execute_result",
          "data": {
            "text/plain": [
              "Text(0.5, 0, 'epoch')"
            ]
          },
          "metadata": {
            "tags": []
          },
          "execution_count": 10
        },
        {
          "output_type": "display_data",
          "data": {
            "image/png": "[encoded data removed]",
            "text/plain": [
              "<Figure size 432x288 with 1 Axes>"
            ]
          },
          "metadata": {
            "tags": []
          }
        }
      ]
    },
    {
      "cell_type": "code",
      "metadata": {
        "id": "w4UOqHbTxuGF",
        "colab_type": "code",
        "colab": {
          "base_uri": "https://localhost:8080/",
          "height": 269
        },
        "outputId": "d78f455d-c816-4c14-ed24-9aa71ae4a2f8"
      },
      "source": [
        "plot_fit('Trained Model')"
      ],
      "execution_count": 11,
      "outputs": [
        {
          "output_type": "display_data",
          "data": {
            "image/png": "[encoded data removed]",
            "text/plain": [
              "<Figure size 432x288 with 1 Axes>"
            ]
          },
          "metadata": {
            "tags": []
          }
        }
      ]
    },
    {
      "cell_type": "code",
      "metadata": {
        "id": "u16oWmMex2DM",
        "colab_type": "code",
        "colab": {}
      },
      "source": [
        ""
      ],
      "execution_count": 0,
      "outputs": []
    }
  ]
}