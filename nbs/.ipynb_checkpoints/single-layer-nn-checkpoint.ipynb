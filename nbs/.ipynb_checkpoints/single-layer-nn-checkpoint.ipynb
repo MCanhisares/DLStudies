{
 "cells": [
  {
   "cell_type": "code",
   "execution_count": 1,
   "metadata": {},
   "outputs": [],
   "source": [
    "import numpy as np"
   ]
  },
  {
   "cell_type": "code",
   "execution_count": 2,
   "metadata": {},
   "outputs": [],
   "source": [
    "def nonlin(x, deriv=False):\n",
    "    if(deriv == True):\n",
    "        return x*(1-x)\n",
    "    return 1/(1+np.exp(-x))"
   ]
  },
  {
   "cell_type": "markdown",
   "metadata": {},
   "source": [
    "## Input dataset"
   ]
  },
  {
   "cell_type": "code",
   "execution_count": 59,
   "metadata": {},
   "outputs": [],
   "source": [
    "input = np.array([[0,0,1], [0,1,1], [1,0,1], [1,1,1]])"
   ]
  },
  {
   "cell_type": "markdown",
   "metadata": {},
   "source": [
    "## Output dataset"
   ]
  },
  {
   "cell_type": "code",
   "execution_count": 78,
   "metadata": {},
   "outputs": [
    {
     "data": {
      "text/plain": [
       "array([[0],\n",
       "       [0],\n",
       "       [1],\n",
       "       [1]])"
      ]
     },
     "execution_count": 78,
     "metadata": {},
     "output_type": "execute_result"
    }
   ],
   "source": [
    "output = np.array([[0,0,1,1]]).T\n",
    "output"
   ]
  },
  {
   "cell_type": "code",
   "execution_count": 61,
   "metadata": {},
   "outputs": [],
   "source": [
    "np.random.seed(1)"
   ]
  },
  {
   "cell_type": "markdown",
   "metadata": {},
   "source": [
    "### Create a random sequence with dimension 3x1 with mean 0. \n",
    "Did not understand why 2* and -1, since np.random.random already creates array with values between 0 and 1. "
   ]
  },
  {
   "cell_type": "code",
   "execution_count": 74,
   "metadata": {},
   "outputs": [],
   "source": [
    "syn0 = 2* np.random.random((3,1)) -1"
   ]
  },
  {
   "cell_type": "code",
   "execution_count": 75,
   "metadata": {},
   "outputs": [
    {
     "data": {
      "text/plain": [
       "-0.3809410582324076"
      ]
     },
     "execution_count": 75,
     "metadata": {},
     "output_type": "execute_result"
    }
   ],
   "source": [
    "np.mean(syn0)"
   ]
  },
  {
   "cell_type": "code",
   "execution_count": 79,
   "metadata": {},
   "outputs": [
    {
     "name": "stdout",
     "output_type": "stream",
     "text": [
      "Iteration 0\n",
      "layer values: [[0.00679869]\n",
      " [0.0055359 ]\n",
      " [0.99548564]\n",
      " [0.99445458]]\n",
      "layer error: [[-0.00679869]\n",
      " [-0.0055359 ]\n",
      " [ 0.00451436]\n",
      " [ 0.00554542]]\n",
      "delta: [[-4.59078760e-05]\n",
      " [-3.04765624e-05]\n",
      " [ 2.02874091e-05]\n",
      " [ 3.05811023e-05]]\n",
      "Iteration 1000\n",
      "layer values: [[0.00663264]\n",
      " [0.00540108]\n",
      " [0.99559545]\n",
      " [0.99458988]]\n",
      "layer error: [[-0.00663264]\n",
      " [-0.00540108]\n",
      " [ 0.00440455]\n",
      " [ 0.00541012]]\n",
      "delta: [[-4.37001937e-05]\n",
      " [-2.90140556e-05]\n",
      " [ 1.93145829e-05]\n",
      " [ 2.91110556e-05]]\n",
      "Iteration 2000\n",
      "layer values: [[0.00647816]\n",
      " [0.00527561]\n",
      " [0.99569764]\n",
      " [0.99471577]]\n",
      "layer error: [[-0.00647816]\n",
      " [-0.00527561]\n",
      " [ 0.00430236]\n",
      " [ 0.00528423]]\n",
      "delta: [[-4.16946596e-05]\n",
      " [-2.76852559e-05]\n",
      " [ 1.84306467e-05]\n",
      " [ 2.77755759e-05]]\n",
      "Iteration 3000\n",
      "layer values: [[0.00633395]\n",
      " [0.00515848]\n",
      " [0.99579305]\n",
      " [0.99483329]]\n",
      "layer error: [[-0.00633395]\n",
      " [-0.00515848]\n",
      " [ 0.00420695]\n",
      " [ 0.00516671]]\n",
      "delta: [[-3.98647522e-05]\n",
      " [-2.64726432e-05]\n",
      " [ 1.76239582e-05]\n",
      " [ 2.65570121e-05]]\n",
      "Iteration 4000\n",
      "layer values: [[0.00619892]\n",
      " [0.00504879]\n",
      " [0.9958824 ]\n",
      " [0.99494332]]\n",
      "layer error: [[-0.00619892]\n",
      " [-0.00504879]\n",
      " [ 0.0041176 ]\n",
      " [ 0.00505668]]\n",
      "delta: [[-3.81883919e-05]\n",
      " [-2.53616290e-05]\n",
      " [ 1.68848225e-05]\n",
      " [ 2.54406694e-05]]\n",
      "Iteration 5000\n",
      "layer values: [[0.00607214]\n",
      " [0.0049458 ]\n",
      " [0.9959663 ]\n",
      " [0.99504664]]\n",
      "layer error: [[-0.00607214]\n",
      " [-0.0049458 ]\n",
      " [ 0.0040337 ]\n",
      " [ 0.00495336]]\n",
      "delta: [[-3.66470495e-05]\n",
      " [-2.43399676e-05]\n",
      " [ 1.62051008e-05]\n",
      " [ 2.44142149e-05]]\n",
      "Iteration 6000\n",
      "layer values: [[0.00595281]\n",
      " [0.00484885]\n",
      " [0.99604529]\n",
      " [0.9951439 ]]\n",
      "layer error: [[-0.00595281]\n",
      " [-0.00484885]\n",
      " [ 0.00395471]\n",
      " [ 0.0048561 ]]\n",
      "delta: [[-3.52250598e-05]\n",
      " [-2.33973047e-05]\n",
      " [ 1.55779112e-05]\n",
      " [ 2.34672220e-05]]\n",
      "Iteration 7000\n",
      "layer values: [[0.00584023]\n",
      " [0.00475736]\n",
      " [0.99611982]\n",
      " [0.99523566]]\n",
      "layer error: [[-0.00584023]\n",
      " [-0.00475736]\n",
      " [ 0.00388018]\n",
      " [ 0.00476434]]\n",
      "delta: [[-3.39090897e-05]\n",
      " [-2.25248255e-05]\n",
      " [ 1.49973943e-05]\n",
      " [ 2.25908157e-05]]\n",
      "Iteration 8000\n",
      "layer values: [[0.00573378]\n",
      " [0.00467085]\n",
      " [0.9961903 ]\n",
      " [0.99532242]]\n",
      "layer error: [[-0.00573378]\n",
      " [-0.00467085]\n",
      " [ 0.0038097 ]\n",
      " [ 0.00467758]]\n",
      "delta: [[-3.26877193e-05]\n",
      " [-2.17149788e-05]\n",
      " [ 1.44585307e-05]\n",
      " [ 2.17773945e-05]]\n",
      "Iteration 9000\n",
      "layer values: [[0.00563292]\n",
      " [0.00458889]\n",
      " [0.99625708]\n",
      " [0.99540463]]\n",
      "layer error: [[-0.00563292]\n",
      " [-0.00458889]\n",
      " [ 0.00374292]\n",
      " [ 0.00459537]]\n",
      "delta: [[-3.15511113e-05]\n",
      " [-2.09612590e-05]\n",
      " [ 1.39569955e-05]\n",
      " [ 2.10204100e-05]]\n",
      "Output after training:[[0.00553719]\n",
      " [0.00451108]\n",
      " [0.99632048]\n",
      " [0.99548266]]\n"
     ]
    }
   ],
   "source": [
    "for iter in range(10000):\n",
    "    \n",
    "    # forward propagation\n",
    "    if iter % 1000 == 0:\n",
    "        print(f\"Iteration {iter}\")\n",
    "        print(f\"layer values: {l1}\")\n",
    "        print(f\"layer error: {l1_error}\")\n",
    "        print(f\"delta: {l1_delta}\")\n",
    "    l0 = input\n",
    "    l1 = nonlin(np.dot(l0, syn0))\n",
    "    \n",
    "    # how much did we miss?\n",
    "    l1_error = output - l1\n",
    "    \n",
    "    # multiply how much we missed by the slope of the sigmoid at the values in l1\n",
    "    l1_delta = l1_error * nonlin(l1, True)\n",
    "    \n",
    "    #update weights\n",
    "    syn0 += np.dot(l0.T, l1_delta)\n",
    "\n",
    "print(f\"Output after training:{l1}\")"
   ]
  }
 ],
 "metadata": {
  "kernelspec": {
   "display_name": "Python 3",
   "language": "python",
   "name": "python3"
  },
  "language_info": {
   "codemirror_mode": {
    "name": "ipython",
    "version": 3
   },
   "file_extension": ".py",
   "mimetype": "text/x-python",
   "name": "python",
   "nbconvert_exporter": "python",
   "pygments_lexer": "ipython3",
   "version": "3.7.3"
  }
 },
 "nbformat": 4,
 "nbformat_minor": 2
}
