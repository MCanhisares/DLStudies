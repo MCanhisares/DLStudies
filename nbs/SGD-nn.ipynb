{
 "cells": [
  {
   "cell_type": "code",
   "execution_count": 38,
   "metadata": {},
   "outputs": [],
   "source": [
    "import numpy as np"
   ]
  },
  {
   "cell_type": "code",
   "execution_count": 39,
   "metadata": {},
   "outputs": [],
   "source": [
    "alphas = [0.001, 0.01, 0.1, 1, 10, 100, 1000]\n",
    "size = 32"
   ]
  },
  {
   "cell_type": "code",
   "execution_count": 40,
   "metadata": {},
   "outputs": [],
   "source": [
    "def sigmoid(x, deriv=False):\n",
    "    if deriv == True:\n",
    "        return x*(1-x)\n",
    "    return 1/(1+np.exp(-x))"
   ]
  },
  {
   "cell_type": "code",
   "execution_count": 41,
   "metadata": {},
   "outputs": [],
   "source": [
    "#input array\n",
    "x = np.array([[0,0,1], [0,1,1], [1,0,1], [1,1,1]])"
   ]
  },
  {
   "cell_type": "code",
   "execution_count": 42,
   "metadata": {},
   "outputs": [
    {
     "data": {
      "text/plain": [
       "array([[0],\n",
       "       [1],\n",
       "       [1],\n",
       "       [0]])"
      ]
     },
     "execution_count": 42,
     "metadata": {},
     "output_type": "execute_result"
    }
   ],
   "source": [
    "#output array\n",
    "y = np.array([[0,1,1,0]]).T\n",
    "y"
   ]
  },
  {
   "cell_type": "code",
   "execution_count": 43,
   "metadata": {},
   "outputs": [],
   "source": [
    "def initWeights(size):\n",
    "    np.random.seed(1)\n",
    "    syn0 = 2*np.random.random((3,size)) - 1\n",
    "    syn1 = 2*np.random.random((size,1)) - 1\n",
    "    return (syn0,syn1)"
   ]
  },
  {
   "cell_type": "code",
   "execution_count": 44,
   "metadata": {},
   "outputs": [],
   "source": [
    "def train(alpha, syn0, syn1):\n",
    "    for j in range(60000):\n",
    "        #fwd prop\n",
    "        l0 = x\n",
    "        l1 = sigmoid(np.dot(l0, syn0))\n",
    "        l2 = sigmoid(np.dot(l1, syn1))\n",
    "\n",
    "        #how much we missed\n",
    "        l2_err = l2-y        \n",
    "        \n",
    "        if j%10000 == 0:\n",
    "            print(f\"Error after {j} iterations: {np.mean(np.abs(l2_err))}\")            \n",
    "            \n",
    "        l2_delta = l2_err*sigmoid(l2, True)\n",
    "        \n",
    "        l1_err = l2_delta.dot(syn1.T)\n",
    "        l1_delta = l1_err*sigmoid(l1, True)\n",
    "\n",
    "        #back prop\n",
    "        syn1 -= alpha*l1.T.dot(l2_delta)\n",
    "        syn0 -= alpha*l0.T.dot(l1_delta)"
   ]
  },
  {
   "cell_type": "code",
   "execution_count": 45,
   "metadata": {},
   "outputs": [
    {
     "name": "stdout",
     "output_type": "stream",
     "text": [
      "Training with Alpha: 0.001\n",
      "Error after 0 iterations: 0.49643992250078794\n",
      "Error after 10000 iterations: 0.4910494681290495\n",
      "Error after 20000 iterations: 0.48497630702745964\n",
      "Error after 30000 iterations: 0.47783067879265567\n",
      "Error after 40000 iterations: 0.4690384653902826\n",
      "Error after 50000 iterations: 0.458029258565275\n",
      "Training with Alpha: 0.01\n",
      "Error after 0 iterations: 0.49643992250078794\n",
      "Error after 10000 iterations: 0.3563790616480214\n",
      "Error after 20000 iterations: 0.14693984546476002\n",
      "Error after 30000 iterations: 0.08801561274158767\n",
      "Error after 40000 iterations: 0.06514781927504912\n",
      "Error after 50000 iterations: 0.0529658087025697\n",
      "Training with Alpha: 0.1\n",
      "Error after 0 iterations: 0.49643992250078794\n",
      "Error after 10000 iterations: 0.03054049083855504\n",
      "Error after 20000 iterations: 0.01906387253341844\n",
      "Error after 30000 iterations: 0.014764390729581685\n",
      "Error after 40000 iterations: 0.012389242990471299\n",
      "Error after 50000 iterations: 0.010842166973777434\n",
      "Training with Alpha: 1\n",
      "Error after 0 iterations: 0.49643992250078794\n",
      "Error after 10000 iterations: 0.007360522342493723\n",
      "Error after 20000 iterations: 0.004972517050388165\n",
      "Error after 30000 iterations: 0.0039686397815906485\n",
      "Error after 40000 iterations: 0.003386410219831655\n",
      "Error after 50000 iterations: 0.002996256849322484\n",
      "Training with Alpha: 10\n",
      "Error after 0 iterations: 0.49643992250078794\n",
      "Error after 10000 iterations: 0.0022509382504462185\n",
      "Error after 20000 iterations: 0.0015350889312453298\n",
      "Error after 30000 iterations: 0.0012330581217287737\n",
      "Error after 40000 iterations: 0.0010572191693684074\n",
      "Error after 50000 iterations: 0.0009389971535449345\n",
      "Training with Alpha: 100\n",
      "Error after 0 iterations: 0.49643992250078794\n",
      "Error after 10000 iterations: 0.5\n",
      "Error after 20000 iterations: 0.5\n",
      "Error after 30000 iterations: 0.5\n",
      "Error after 40000 iterations: 0.5\n",
      "Error after 50000 iterations: 0.5\n",
      "Training with Alpha: 1000\n",
      "Error after 0 iterations: 0.49643992250078794\n",
      "Error after 10000 iterations: 0.5\n",
      "Error after 20000 iterations: 0.5\n",
      "Error after 30000 iterations: 0.5\n",
      "Error after 40000 iterations: 0.5\n",
      "Error after 50000 iterations: 0.5\n"
     ]
    }
   ],
   "source": [
    "for alpha in alphas:\n",
    "    print(f\"Training with Alpha: {alpha}\")\n",
    "    weights = initWeights(size)\n",
    "    train(alpha,weights[0], weights[1])"
   ]
  },
  {
   "cell_type": "code",
   "execution_count": null,
   "metadata": {},
   "outputs": [],
   "source": []
  }
 ],
 "metadata": {
  "kernelspec": {
   "display_name": "Python 3",
   "language": "python",
   "name": "python3"
  },
  "language_info": {
   "codemirror_mode": {
    "name": "ipython",
    "version": 3
   },
   "file_extension": ".py",
   "mimetype": "text/x-python",
   "name": "python",
   "nbconvert_exporter": "python",
   "pygments_lexer": "ipython3",
   "version": "3.7.3"
  }
 },
 "nbformat": 4,
 "nbformat_minor": 2
}
